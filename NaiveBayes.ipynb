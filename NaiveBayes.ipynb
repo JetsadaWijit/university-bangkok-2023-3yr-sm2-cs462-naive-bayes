{
  "nbformat": 4,
  "nbformat_minor": 0,
  "metadata": {
    "colab": {
      "provenance": [],
      "authorship_tag": "ABX9TyOl5MnAHEzOBlINTI258cb8",
      "include_colab_link": true
    },
    "kernelspec": {
      "name": "python3",
      "display_name": "Python 3"
    },
    "language_info": {
      "name": "python"
    }
  },
  "cells": [
    {
      "cell_type": "markdown",
      "metadata": {
        "id": "view-in-github",
        "colab_type": "text"
      },
      "source": [
        "<a href=\"https://colab.research.google.com/github/JetsadaWijit/university-bangkok-2023-3yr-sm2-cs462-naive-bayes/blob/master/NaiveBayes.ipynb\" target=\"_parent\"><img src=\"https://colab.research.google.com/assets/colab-badge.svg\" alt=\"Open In Colab\"/></a>"
      ]
    },
    {
      "cell_type": "markdown",
      "source": [
        "Car:\n",
        "\n",
        "Equation\n",
        "\n",
        "(0.3*(1/4)) / ((0.3 * (1/4)) + (0.5 * (1/4)) + (0.06 * (1/4)) + (0.1 * (1/4)))\n",
        "\n",
        "answer : 0.3125\n",
        "\n",
        "---\n",
        "\n",
        "Bus:\n",
        "\n",
        "Equation\n",
        "\n",
        "(0.5*(1/4)) / ((0.3 * (1/4)) + (0.5 * (1/4)) + (0.06 * (1/4)) + (0.1 * (1/4)))\n",
        "\n",
        "answer : 0.5208\n",
        "\n",
        "---\n",
        "\n",
        "Train:\n",
        "\n",
        "Equation\n",
        "\n",
        "(0.06*(1/4)) / ((0.3 * (1/4)) + (0.5 * (1/4)) + (0.06 * (1/4)) + (0.1 * (1/4)))\n",
        "\n",
        "answer : 0.0625\n",
        "\n",
        "---\n",
        "\n",
        "Boat:\n",
        "\n",
        "Equation\n",
        "\n",
        "(0.1*(1/4)) / ((0.3 * (1/4)) + (0.5 * (1/4)) + (0.06 * (1/4)) + (0.1 * (1/4)))\n",
        "\n",
        "answer : 0.1042"
      ],
      "metadata": {
        "id": "0zn0opO_0Gy9"
      }
    },
    {
      "cell_type": "code",
      "execution_count": 1,
      "metadata": {
        "id": "qOPkYt4OeNRm"
      },
      "outputs": [],
      "source": [
        "# Define variables\n",
        "C = ['Car', 'Bus', 'Train', 'Boat']\n",
        "X = 'สาย'"
      ]
    },
    {
      "cell_type": "code",
      "source": [
        "# Probability of 1/4\n",
        "# Probability\n",
        "P_X_given_C = {\n",
        "    'Car': float('0.3'),\n",
        "    'Bus': float('0.5'),\n",
        "    'Train': float('0.06'),\n",
        "    'Boat': float('0.1'),\n",
        "}\n"
      ],
      "metadata": {
        "id": "uZv7qtuFeOLJ"
      },
      "execution_count": 2,
      "outputs": []
    },
    {
      "cell_type": "code",
      "source": [
        "# Equation\n",
        "# P(C|X) = P(X|C) * P(C) / P(X)\n",
        "# P(X) = (P(C)*1/4) -- ทำซำกับ P_X_given_C\n",
        "\n",
        "# Results\n",
        "results = []\n",
        "total_probability = sum(P_X_given_C[c] * (1/4) for c in P_X_given_C)\n",
        "\n",
        "# Find answer with Equation\n",
        "for c in P_X_given_C:\n",
        "  ans = (P_X_given_C[c] * (1/4)) / total_probability\n",
        "  results.append(ans)\n",
        "\n",
        "\n",
        "results"
      ],
      "metadata": {
        "colab": {
          "base_uri": "https://localhost:8080/"
        },
        "id": "NRhu-AF5egD8",
        "outputId": "d0677819-51a2-4922-8d1b-f6399204a7b2"
      },
      "execution_count": 3,
      "outputs": [
        {
          "output_type": "execute_result",
          "data": {
            "text/plain": [
              "[0.31249999999999994,\n",
              " 0.5208333333333333,\n",
              " 0.06249999999999999,\n",
              " 0.10416666666666666]"
            ]
          },
          "metadata": {},
          "execution_count": 3
        }
      ]
    }
  ]
}