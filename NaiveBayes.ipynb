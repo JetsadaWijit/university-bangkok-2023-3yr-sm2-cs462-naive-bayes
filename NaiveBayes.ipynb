{
  "nbformat": 4,
  "nbformat_minor": 0,
  "metadata": {
    "colab": {
      "provenance": [],
      "authorship_tag": "ABX9TyOvX49yMHsX8NofYEZMA92D",
      "include_colab_link": true
    },
    "kernelspec": {
      "name": "python3",
      "display_name": "Python 3"
    },
    "language_info": {
      "name": "python"
    }
  },
  "cells": [
    {
      "cell_type": "markdown",
      "metadata": {
        "id": "view-in-github",
        "colab_type": "text"
      },
      "source": [
        "<a href=\"https://colab.research.google.com/github/JetsadaWijit/university-bangkok-2023-3yr-sm2-cs462-naive-bayes/blob/master/NaiveBayes.ipynb\" target=\"_parent\"><img src=\"https://colab.research.google.com/assets/colab-badge.svg\" alt=\"Open In Colab\"/></a>"
      ]
    },
    {
      "cell_type": "code",
      "execution_count": 73,
      "metadata": {
        "id": "qOPkYt4OeNRm"
      },
      "outputs": [],
      "source": [
        "# Define variables\n",
        "C = ['Car', 'Bus', 'Train', 'Boat']\n",
        "X = 'สาย'"
      ]
    },
    {
      "cell_type": "code",
      "source": [
        "# Probability of 1/4\n",
        "# Probability\n",
        "P_X_given_C = {\n",
        "    'Car': float('0.3'),\n",
        "    'Bus': float('0.5'),\n",
        "    'Train': float('0.06'),\n",
        "    'Boat': float('0.1'),\n",
        "}\n"
      ],
      "metadata": {
        "id": "uZv7qtuFeOLJ"
      },
      "execution_count": 74,
      "outputs": []
    },
    {
      "cell_type": "code",
      "source": [
        "# Equation\n",
        "# P(C|X) = P(X|C) * P(C) / P(X)\n",
        "# P(X) = (P(C)*1/4) -- ทำซำกับ P_X_given_C\n",
        "\n",
        "# Results\n",
        "results = []\n",
        "total_probability = sum(P_X_given_C[c] * (1/4) for c in P_X_given_C)\n",
        "\n",
        "# Find answer with Equation\n",
        "for c in P_X_given_C:\n",
        "  ans = (P_X_given_C[c] * (1/4)) / total_probability\n",
        "  results.append(ans)\n",
        "\n",
        "\n",
        "results"
      ],
      "metadata": {
        "colab": {
          "base_uri": "https://localhost:8080/"
        },
        "id": "NRhu-AF5egD8",
        "outputId": "5e919491-d918-42d9-a652-0382238396d1"
      },
      "execution_count": 80,
      "outputs": [
        {
          "output_type": "execute_result",
          "data": {
            "text/plain": [
              "[0.31249999999999994,\n",
              " 0.5208333333333333,\n",
              " 0.06249999999999999,\n",
              " 0.10416666666666666]"
            ]
          },
          "metadata": {},
          "execution_count": 80
        }
      ]
    }
  ]
}