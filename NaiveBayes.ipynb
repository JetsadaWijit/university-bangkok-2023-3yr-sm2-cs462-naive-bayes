{
  "nbformat": 4,
  "nbformat_minor": 0,
  "metadata": {
    "colab": {
      "provenance": [],
      "authorship_tag": "ABX9TyMnGdSa1JF6c3Ns+wQ/bX6B",
      "include_colab_link": true
    },
    "kernelspec": {
      "name": "python3",
      "display_name": "Python 3"
    },
    "language_info": {
      "name": "python"
    }
  },
  "cells": [
    {
      "cell_type": "markdown",
      "metadata": {
        "id": "view-in-github",
        "colab_type": "text"
      },
      "source": [
        "<a href=\"https://colab.research.google.com/github/JetsadaWijit/university-bangkok-2023-3yr-sm2-cs462-naive-bayes/blob/master/NaiveBayes.ipynb\" target=\"_parent\"><img src=\"https://colab.research.google.com/assets/colab-badge.svg\" alt=\"Open In Colab\"/></a>"
      ]
    },
    {
      "cell_type": "markdown",
      "source": [
        "Car:\n",
        "\n",
        "Equation\n",
        "\n",
        "(0.3*(1/4)) / ((0.3 * (1/4)) + (0.5 * (1/4)) + (0.06 * (1/4)) + (0.1 * (1/4)))\n",
        "\n",
        "answer : 0.3125\n",
        "\n",
        "---\n",
        "\n",
        "Bus:\n",
        "\n",
        "Equation\n",
        "\n",
        "(0.5*(1/4)) / ((0.3 * (1/4)) + (0.5 * (1/4)) + (0.06 * (1/4)) + (0.1 * (1/4)))\n",
        "\n",
        "answer : 0.5208\n",
        "\n",
        "---\n",
        "\n",
        "Train:\n",
        "\n",
        "Equation\n",
        "\n",
        "(0.06*(1/4)) / ((0.3 * (1/4)) + (0.5 * (1/4)) + (0.06 * (1/4)) + (0.1 * (1/4)))\n",
        "\n",
        "answer : 0.0625\n",
        "\n",
        "---\n",
        "\n",
        "Boat:\n",
        "\n",
        "Equation\n",
        "\n",
        "(0.1*(1/4)) / ((0.3 * (1/4)) + (0.5 * (1/4)) + (0.06 * (1/4)) + (0.1 * (1/4)))\n",
        "\n",
        "answer : 0.1042"
      ],
      "metadata": {
        "id": "0zn0opO_0Gy9"
      }
    },
    {
      "cell_type": "code",
      "execution_count": 22,
      "metadata": {
        "id": "qOPkYt4OeNRm"
      },
      "outputs": [],
      "source": [
        "# Define variables\n",
        "C = ['Car', 'Bus', 'Train', 'Boat']\n",
        "X = 'สาย'"
      ]
    },
    {
      "cell_type": "code",
      "source": [
        "# Probability of 1/4\n",
        "# Probability\n",
        "P_X_given_C = {\n",
        "    'Car': float('0.3'),\n",
        "    'Bus': float('0.5'),\n",
        "    'Train': float('0.06'),\n",
        "    'Boat': float('0.1'),\n",
        "}\n"
      ],
      "metadata": {
        "id": "uZv7qtuFeOLJ"
      },
      "execution_count": 23,
      "outputs": []
    },
    {
      "cell_type": "code",
      "source": [
        "# Equation\n",
        "# P(C|X) = P(X|C) * P(C) / P(X)\n",
        "# P(X) = (P(C)*1/4) -- ทำซำกับ P_X_given_C\n",
        "\n",
        "# Results\n",
        "results = []\n",
        "total_probability = sum(P_X_given_C[c] * (1/4) for c in P_X_given_C)\n",
        "\n",
        "# Find answer with Equation\n",
        "for c in P_X_given_C:\n",
        "  ans = (P_X_given_C[c] * (1/4)) / total_probability\n",
        "  results.append(ans)"
      ],
      "metadata": {
        "id": "NRhu-AF5egD8"
      },
      "execution_count": 24,
      "outputs": []
    },
    {
      "cell_type": "code",
      "source": [
        "# Display\n",
        "for c, result in zip(C, results):\n",
        "  print(c, \"result is\", format(result, \".4f\"))"
      ],
      "metadata": {
        "id": "0JFMqCaz3Wix",
        "outputId": "1bb32893-9549-425d-9ec3-6df9c6584642",
        "colab": {
          "base_uri": "https://localhost:8080/"
        }
      },
      "execution_count": 25,
      "outputs": [
        {
          "output_type": "stream",
          "name": "stdout",
          "text": [
            "Car result is 0.3125\n",
            "Bus result is 0.5208\n",
            "Train result is 0.0625\n",
            "Boat result is 0.1042\n"
          ]
        }
      ]
    }
  ]
}